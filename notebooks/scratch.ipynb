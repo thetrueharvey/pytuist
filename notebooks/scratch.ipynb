{
 "cells": [
  {
   "cell_type": "code",
   "execution_count": 5,
   "metadata": {},
   "outputs": [],
   "source": [
    "import re"
   ]
  },
  {
   "cell_type": "code",
   "execution_count": 6,
   "metadata": {},
   "outputs": [
    {
     "name": "stdout",
     "output_type": "stream",
     "text": [
      "\n",
      "============================================== test session starts ===============================================\n",
      "platform win32 -- Python 3.11.2, pytest-6.2.5, py-1.11.0, pluggy-1.0.0\n",
      "rootdir: C:\\Users\\harvey\\github\\pytuist\n",
      "plugins: cov-3.0.0\n",
      "collected 10 items\n",
      "\n",
      "test\\test_root.py .                                                                                         [ 10%]\n",
      "test\\test_root_again.py .F                                                                                  [ 30%]\n",
      "test\\child\\test_child.py ..                                                                                 [ 50%]\n",
      "test\\child\\grandchild\\test_another_grandchild.py .F                                                         [ 70%]\n",
      "test\\child\\grandchild\\test_grandchild.py .                                                                  [ 80%]\n",
      "test\\unit\\actual_test.py FF                                                                                 [100%]\n",
      "\n",
      "==================================================== FAILURES ====================================================\n",
      "________________________________________________ test_that_fails _________________________________________________\n",
      "\n",
      "    def test_that_fails():\n",
      ">       assert False\n",
      "E       assert False\n",
      "\n",
      "test\\test_root_again.py:6: AssertionError\n",
      "________________________________________________ test_that_fails _________________________________________________ \n",
      "\n",
      "    def test_that_fails():\n",
      ">       assert False\n",
      "E       assert False\n",
      "\n",
      "test\\child\\grandchild\\test_another_grandchild.py:5: AssertionError\n",
      "_________________________________________ test_construct_test_hierarchy __________________________________________ \n",
      "\n",
      "    def test_construct_test_hierarchy():\n",
      ">       from src.pytuist import TestDir\n",
      "E         File \"C:\\Users\\harvey\\github\\pytuist\\src\\pytuist.py\", line 200\n",
      "E           )\n",
      "E           ^\n",
      "E       SyntaxError: invalid syntax\n",
      "\n",
      "test\\unit\\actual_test.py:12: SyntaxError\n",
      "__________________________________________________ test_render ___________________________________________________ \n",
      "\n",
      "    def test_render():\n",
      ">       from src.pytuist import TestDir\n",
      "E         File \"C:\\Users\\harvey\\github\\pytuist\\src\\pytuist.py\", line 200\n",
      "E           )\n",
      "E           ^\n",
      "E       SyntaxError: invalid syntax\n",
      "\n",
      "test\\unit\\actual_test.py:22: SyntaxError\n",
      "============================================ short test summary info ============================================= \n",
      "FAILED test/test_root_again.py::test_that_fails - assert False\n",
      "FAILED test/child/grandchild/test_another_grandchild.py::test_that_fails - assert False\n",
      "FAILED test/unit/actual_test.py::test_construct_test_hierarchy -   File \"C:\\Users\\harvey\\github\\pytuist\\src\\pytu...\n",
      "FAILED test/unit/actual_test.py::test_render -   File \"C:\\Users\\harvey\\github\\pytuist\\src\\pytuist.py\", line 200    \n",
      "========================================== 4 failed, 6 passed in 0.09s =========================================== \n",
      "NativeCommandExitException: Program \"pytest.exe\" ended with non-zero exit code: 1.\n",
      "\n"
     ]
    }
   ],
   "source": [
    "output = r'''\n",
    "============================================== test session starts ===============================================\n",
    "platform win32 -- Python 3.11.2, pytest-6.2.5, py-1.11.0, pluggy-1.0.0\n",
    "rootdir: C:\\Users\\harvey\\github\\pytuist\n",
    "plugins: cov-3.0.0\n",
    "collected 10 items\n",
    "\n",
    "test\\test_root.py .                                                                                         [ 10%]\n",
    "test\\test_root_again.py .F                                                                                  [ 30%]\n",
    "test\\child\\test_child.py ..                                                                                 [ 50%]\n",
    "test\\child\\grandchild\\test_another_grandchild.py .F                                                         [ 70%]\n",
    "test\\child\\grandchild\\test_grandchild.py .                                                                  [ 80%]\n",
    "test\\unit\\actual_test.py FF                                                                                 [100%]\n",
    "\n",
    "==================================================== FAILURES ====================================================\n",
    "________________________________________________ test_that_fails _________________________________________________\n",
    "\n",
    "    def test_that_fails():\n",
    ">       assert False\n",
    "E       assert False\n",
    "\n",
    "test\\test_root_again.py:6: AssertionError\n",
    "________________________________________________ test_that_fails _________________________________________________ \n",
    "\n",
    "    def test_that_fails():\n",
    ">       assert False\n",
    "E       assert False\n",
    "\n",
    "test\\child\\grandchild\\test_another_grandchild.py:5: AssertionError\n",
    "_________________________________________ test_construct_test_hierarchy __________________________________________ \n",
    "\n",
    "    def test_construct_test_hierarchy():\n",
    ">       from src.pytuist import TestDir\n",
    "E         File \"C:\\Users\\harvey\\github\\pytuist\\src\\pytuist.py\", line 200\n",
    "E           )\n",
    "E           ^\n",
    "E       SyntaxError: invalid syntax\n",
    "\n",
    "test\\unit\\actual_test.py:12: SyntaxError\n",
    "__________________________________________________ test_render ___________________________________________________ \n",
    "\n",
    "    def test_render():\n",
    ">       from src.pytuist import TestDir\n",
    "E         File \"C:\\Users\\harvey\\github\\pytuist\\src\\pytuist.py\", line 200\n",
    "E           )\n",
    "E           ^\n",
    "E       SyntaxError: invalid syntax\n",
    "\n",
    "test\\unit\\actual_test.py:22: SyntaxError\n",
    "============================================ short test summary info ============================================= \n",
    "FAILED test/test_root_again.py::test_that_fails - assert False\n",
    "FAILED test/child/grandchild/test_another_grandchild.py::test_that_fails - assert False\n",
    "FAILED test/unit/actual_test.py::test_construct_test_hierarchy -   File \"C:\\Users\\harvey\\github\\pytuist\\src\\pytu...\n",
    "FAILED test/unit/actual_test.py::test_render -   File \"C:\\Users\\harvey\\github\\pytuist\\src\\pytuist.py\", line 200    \n",
    "========================================== 4 failed, 6 passed in 0.09s =========================================== \n",
    "NativeCommandExitException: Program \"pytest.exe\" ended with non-zero exit code: 1.\n",
    "'''\n",
    "\n",
    "print(output)"
   ]
  },
  {
   "cell_type": "code",
   "execution_count": 7,
   "metadata": {},
   "outputs": [
    {
     "name": "stdout",
     "output_type": "stream",
     "text": [
      "________________________________________________ test_that_fails _________________________________________________\n",
      "\n",
      "    def test_that_fails():\n",
      ">       assert False\n",
      "E       assert False\n",
      "\n",
      "test\\test_root_again.py:6: AssertionError\n",
      "________________________________________________ test_that_fails _________________________________________________ \n",
      "\n",
      "    def test_that_fails():\n",
      ">       assert False\n",
      "E       assert False\n",
      "\n",
      "test\\child\\grandchild\\test_another_grandchild.py:5: AssertionError\n",
      "_________________________________________ test_construct_test_hierarchy __________________________________________ \n",
      "\n",
      "    def test_construct_test_hierarchy():\n",
      ">       from src.pytuist import TestDir\n",
      "E         File \"C:\\Users\\harvey\\github\\pytuist\\src\\pytuist.py\", line 200\n",
      "E           )\n",
      "E           ^\n",
      "E       SyntaxError: invalid syntax\n",
      "\n",
      "test\\unit\\actual_test.py:12: SyntaxError\n",
      "__________________________________________________ test_render ___________________________________________________ \n",
      "\n",
      "    def test_render():\n",
      ">       from src.pytuist import TestDir\n",
      "E         File \"C:\\Users\\harvey\\github\\pytuist\\src\\pytuist.py\", line 200\n",
      "E           )\n",
      "E           ^\n",
      "E       SyntaxError: invalid syntax\n",
      "\n",
      "test\\unit\\actual_test.py:22: SyntaxError\n"
     ]
    }
   ],
   "source": [
    "result = \"\\n\".join(output.split(\"FAILURES\")[1].split(\"short test summary info\")[0].splitlines()[1:-1])\n",
    "print(result)\n"
   ]
  },
  {
   "cell_type": "code",
   "execution_count": 8,
   "metadata": {},
   "outputs": [
    {
     "data": {
      "text/plain": [
       "[6, 13, 23, 33]"
      ]
     },
     "execution_count": 8,
     "metadata": {},
     "output_type": "execute_result"
    }
   ],
   "source": [
    "fail_indices = [i  for i, line in enumerate(result.splitlines()) if re.search(r\"\\.py:\\d+: \", line) is not None]\n",
    "fail_indices"
   ]
  },
  {
   "cell_type": "code",
   "execution_count": 9,
   "metadata": {},
   "outputs": [
    {
     "name": "stdout",
     "output_type": "stream",
     "text": [
      "_________________________________________ test_construct_test_hierarchy __________________________________________ \n",
      "\n",
      "    def test_construct_test_hierarchy():\n",
      ">       from src.pytuist import TestDir\n",
      "E         File \"C:\\Users\\harvey\\github\\pytuist\\src\\pytuist.py\", line 200\n",
      "E           )\n",
      "E           ^\n",
      "E       SyntaxError: invalid syntax\n",
      "\n",
      "test\\unit\\actual_test.py:12: SyntaxError\n"
     ]
    }
   ],
   "source": [
    "failures = [*map(lambda lines: \"\\n\".join(lines), [result.splitlines()[start + 1 : end + 1] for start, end in zip([-1] + fail_indices[:-1], fail_indices)])]\n",
    "print(failures[2])"
   ]
  },
  {
   "cell_type": "code",
   "execution_count": 10,
   "metadata": {},
   "outputs": [],
   "source": [
    "failure = failures[2]"
   ]
  },
  {
   "cell_type": "code",
   "execution_count": 11,
   "metadata": {},
   "outputs": [
    {
     "data": {
      "text/plain": [
       "'test_construct_test_hierarchy'"
      ]
     },
     "execution_count": 11,
     "metadata": {},
     "output_type": "execute_result"
    }
   ],
   "source": [
    "title = failure.splitlines()[0].split(\" \")[1]\n",
    "title"
   ]
  },
  {
   "cell_type": "code",
   "execution_count": 15,
   "metadata": {},
   "outputs": [
    {
     "data": {
      "text/plain": [
       "'test\\\\unit\\\\actual_test.py'"
      ]
     },
     "execution_count": 15,
     "metadata": {},
     "output_type": "execute_result"
    }
   ],
   "source": [
    "file = failure.splitlines()[-1].split(\":\")[0]\n",
    "file"
   ]
  },
  {
   "cell_type": "code",
   "execution_count": 16,
   "metadata": {},
   "outputs": [
    {
     "data": {
      "text/plain": [
       "'12'"
      ]
     },
     "execution_count": 16,
     "metadata": {},
     "output_type": "execute_result"
    }
   ],
   "source": [
    "line = failure.splitlines()[-1].split(\":\")[1]\n",
    "line"
   ]
  },
  {
   "cell_type": "code",
   "execution_count": 13,
   "metadata": {},
   "outputs": [
    {
     "data": {
      "text/plain": [
       "'SyntaxError'"
      ]
     },
     "execution_count": 13,
     "metadata": {},
     "output_type": "execute_result"
    }
   ],
   "source": [
    "error = failure.splitlines()[-1].split(\": \")[-1]\n",
    "error"
   ]
  }
 ],
 "metadata": {
  "kernelspec": {
   "display_name": ".venv",
   "language": "python",
   "name": "python3"
  },
  "language_info": {
   "codemirror_mode": {
    "name": "ipython",
    "version": 3
   },
   "file_extension": ".py",
   "mimetype": "text/x-python",
   "name": "python",
   "nbconvert_exporter": "python",
   "pygments_lexer": "ipython3",
   "version": "3.11.2"
  },
  "orig_nbformat": 4,
  "vscode": {
   "interpreter": {
    "hash": "806ce48d81a71b592bec53ce48daea03f8f2bd310896896e0f81a9730317c28e"
   }
  }
 },
 "nbformat": 4,
 "nbformat_minor": 2
}
