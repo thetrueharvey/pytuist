{
 "cells": [
  {
   "cell_type": "code",
   "execution_count": 14,
   "metadata": {},
   "outputs": [],
   "source": [
    "import re\n",
    "import subprocess"
   ]
  },
  {
   "cell_type": "code",
   "execution_count": 21,
   "metadata": {},
   "outputs": [
    {
     "name": "stdout",
     "output_type": "stream",
     "text": [
      "=========================================================== test session starts ===========================================================\n",
      "platform win32 -- Python 3.11.2, pytest-6.2.5, py-1.11.0, pluggy-1.0.0\n",
      "rootdir: c:\\Users\\harvey\\github\\pytuist\n",
      "plugins: cov-3.0.0\n",
      "collected 9 items\n",
      "\n",
      "test\\test_root.py .                                                                                                                  [ 11%]\n",
      "test\\test_root_again.py .                                                                                                            [ 22%]\n",
      "test\\child\\test_child.py ..                                                                                                          [ 44%]\n",
      "test\\child\\grandchild\\test_another_grandchild.py .F                                                                                  [ 66%]\n",
      "test\\child\\grandchild\\test_grandchild.py .                                                                                           [ 77%]\n",
      "test\\unit\\actual_test.py .F                                                                                                          [100%]\n",
      "\n",
      "================================================================ FAILURES =================================================================\n",
      "_____________________________________________________________ test_that_fails _____________________________________________________________\n",
      "\n",
      "    def test_that_fails():\n",
      ">       assert False\n",
      "E       assert False\n",
      "\n",
      "test\\child\\grandchild\\test_another_grandchild.py:5: AssertionError\n",
      "_______________________________________________________________ test_render _______________________________________________________________\n",
      "\n",
      "    def test_render():\n",
      "        from src.pytuist import TestDir\n",
      "        from src.render import render_test_tree\n",
      "    \n",
      "        input = (Path(\"test\") / \"resources\" / \"example_pytest_output\").with_suffix(\".txt\").read_text()\n",
      "    \n",
      "        tests = TestDir.from_pytest_output(input)\n",
      "        print()\n",
      ">       render_test_tree(tests)\n",
      "\n",
      "test\\unit\\actual_test.py:29: \n",
      "_ _ _ _ _ _ _ _ _ _ _ _ _ _ _ _ _ _ _ _ _ _ _ _ _ _ _ _ _ _ _ _ _ _ _ _ _ _ _ _ _ _ _ _ _ _ _ _ _ _ _ _ _ _ _ _ _ _ _ _ _ _ _ _ _ _ _ _ _ _\n",
      "src\\render.py:32: in render_test_tree\n",
      "    checkbox_position = test_hierarchy.renderer.get_checkbox_position()\n",
      "_ _ _ _ _ _ _ _ _ _ _ _ _ _ _ _ _ _ _ _ _ _ _ _ _ _ _ _ _ _ _ _ _ _ _ _ _ _ _ _ _ _ _ _ _ _ _ _ _ _ _ _ _ _ _ _ _ _ _ _ _ _ _ _ _ _ _ _ _ _\n",
      "\n",
      "self = <src.pytuist.RenderConfig object at 0x000001E9AF4B70D0>\n",
      "\n",
      "    def get_checkbox_position(self) -> int:\n",
      "        \"\"\"\n",
      "        Recursively get the position of the checkbox for this object, based on the position of all children\n",
      "        checkboxes of the parent, where a child isn't hidden.\n",
      "        \"\"\"\n",
      "        self_position = self.owner.depth * 4 + len(self.name.replace(\".py\", \"\"))\n",
      "        if not self.expanded or isinstance(self.owner, Test):\n",
      "            return self_position\n",
      "    \n",
      ">       return max(*[child.renderer.get_checkbox_position() for child in self.owner.children], self_position)\n",
      "E       TypeError: 'int' object is not iterable\n",
      "\n",
      "src\\pytuist.py:370: TypeError\n",
      "---------------------------------------------------------- Captured stdout call -----------------------------------------------------------\n",
      "\n",
      "========================================================= short test summary info =========================================================\n",
      "FAILED test/child/grandchild/test_another_grandchild.py::test_that_fails - assert False\n",
      "FAILED test/unit/actual_test.py::test_render - TypeError: 'int' object is not iterable\n",
      "======================================================= 2 failed, 7 passed in 0.09s =======================================================\n",
      "\n"
     ]
    }
   ],
   "source": [
    "env = {\"COLUMNS\": \"140\"}\n",
    "\n",
    "result = subprocess.run(\n",
    "    args=[\"pytest\", \".\"],\n",
    "    capture_output=True,\n",
    "    env=env\n",
    ")\n",
    "\n",
    "output = result.stdout.decode(\"utf-8\")\n",
    "print(output)"
   ]
  },
  {
   "cell_type": "code",
   "execution_count": null,
   "metadata": {},
   "outputs": [],
   "source": [
    "def extract_failures(output: str):\n",
    "    \"\"\"\n",
    "    Extract information about failed tests from pytest output.\n",
    "\n",
    "    Args:\n",
    "        output (str): The pytest output as a string.\n",
    "\n",
    "    Returns:\n",
    "        A list of tuples containing the name of the failed test, the path to the file\n",
    "        containing the test, and the line number where the test failed.\n",
    "    \"\"\"\n",
    "    failures: list[str] = []\n",
    "    lines = output.split(\"\\n\")\n",
    "\n",
    "    for i, line in enumerate(lines):\n",
    "        if line.startswith(\"FAILED\"):\n",
    "            # Extract the path to the file and the line number where the test failed\n",
    "            path, line_number = line.split(\"::\")\n",
    "            line_number = int(line_number.split(\"-\")[1])\n",
    "\n",
    "            # Extract the name of the failed test\n",
    "            name = lines[i + 1].strip()\n",
    "\n",
    "            failures.append((name, path, line_number))\n",
    "\n",
    "    return failures"
   ]
  },
  {
   "cell_type": "code",
   "execution_count": 23,
   "metadata": {},
   "outputs": [
    {
     "data": {
      "text/plain": [
       "['test/child/grandchild/test_another_grandchild.py::test_that_fails',\n",
       " 'test/unit/actual_test.py::test_render']"
      ]
     },
     "execution_count": 23,
     "metadata": {},
     "output_type": "execute_result"
    }
   ],
   "source": [
    "failures = re.findall(r\"FAILED\\s+(.*) - \", output)\n",
    "failures"
   ]
  },
  {
   "cell_type": "code",
   "execution_count": 19,
   "metadata": {},
   "outputs": [
    {
     "data": {
      "text/plain": [
       "['test/child/grandchild/test_another_grandchild.py::test_that_fails',\n",
       " 'test/unit/actual_test.py::test_render']"
      ]
     },
     "execution_count": 19,
     "metadata": {},
     "output_type": "execute_result"
    }
   ],
   "source": [
    "failures"
   ]
  }
 ],
 "metadata": {
  "kernelspec": {
   "display_name": ".venv",
   "language": "python",
   "name": "python3"
  },
  "language_info": {
   "codemirror_mode": {
    "name": "ipython",
    "version": 3
   },
   "file_extension": ".py",
   "mimetype": "text/x-python",
   "name": "python",
   "nbconvert_exporter": "python",
   "pygments_lexer": "ipython3",
   "version": "3.11.2"
  },
  "orig_nbformat": 4,
  "vscode": {
   "interpreter": {
    "hash": "806ce48d81a71b592bec53ce48daea03f8f2bd310896896e0f81a9730317c28e"
   }
  }
 },
 "nbformat": 4,
 "nbformat_minor": 2
}
